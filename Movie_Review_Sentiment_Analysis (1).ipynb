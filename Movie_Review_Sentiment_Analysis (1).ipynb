{
  "nbformat": 4,
  "nbformat_minor": 0,
  "metadata": {
    "colab": {
      "provenance": []
    },
    "kernelspec": {
      "name": "python3",
      "display_name": "Python 3"
    },
    "language_info": {
      "name": "python"
    }
  },
  "cells": [
    {
      "cell_type": "markdown",
      "source": [
        "#### Importing required libraries"
      ],
      "metadata": {
        "id": "26uzsJDTDh3_"
      }
    },
    {
      "cell_type": "code",
      "source": [
        "import numpy as np\n",
        "import pandas as pd\n",
        "\n"
      ],
      "metadata": {
        "id": "tb4m5q-nDjFd"
      },
      "execution_count": null,
      "outputs": []
    },
    {
      "cell_type": "code",
      "source": [
        "import nltk\n",
        "from nltk.corpus import stopwords\n",
        "nltk.download('stopwords')"
      ],
      "metadata": {
        "colab": {
          "base_uri": "https://localhost:8080/"
        },
        "id": "BZgxtrMYI3HO",
        "outputId": "d268e1cd-67ed-4626-b5e1-e607369773c1"
      },
      "execution_count": null,
      "outputs": [
        {
          "output_type": "stream",
          "name": "stderr",
          "text": [
            "[nltk_data] Downloading package stopwords to /root/nltk_data...\n",
            "[nltk_data]   Package stopwords is already up-to-date!\n"
          ]
        },
        {
          "output_type": "execute_result",
          "data": {
            "text/plain": [
              "True"
            ]
          },
          "metadata": {},
          "execution_count": 4
        }
      ]
    },
    {
      "cell_type": "markdown",
      "source": [
        "#### Getting the dataset"
      ],
      "metadata": {
        "id": "sWachcGfDq21"
      }
    },
    {
      "cell_type": "code",
      "source": [
        "df=pd.read_csv(\"IMDB Dataset.csv\")"
      ],
      "metadata": {
        "id": "5NWXU2sHe2Xl"
      },
      "execution_count": null,
      "outputs": []
    },
    {
      "cell_type": "markdown",
      "source": [
        "##Data Analysis"
      ],
      "metadata": {
        "id": "nv5blYPTEgvg"
      }
    },
    {
      "cell_type": "markdown",
      "source": [
        "#### Getting the Shape (Dimensions) of the dataset"
      ],
      "metadata": {
        "id": "T0FrgE8UDucd"
      }
    },
    {
      "cell_type": "code",
      "source": [
        "df.shape"
      ],
      "metadata": {
        "id": "Lalxx6qgB7WT"
      },
      "execution_count": null,
      "outputs": []
    },
    {
      "cell_type": "markdown",
      "source": [
        "#### Information about the dataset"
      ],
      "metadata": {
        "id": "F4s2CUixD2jF"
      }
    },
    {
      "cell_type": "code",
      "source": [
        "df.info()"
      ],
      "metadata": {
        "id": "q_dgU8uZB9bp"
      },
      "execution_count": null,
      "outputs": []
    },
    {
      "cell_type": "markdown",
      "source": [
        "#### Displaying the mathematical summary of the dataset"
      ],
      "metadata": {
        "id": "3vT-PChfD6xv"
      }
    },
    {
      "cell_type": "code",
      "source": [
        "df.describe()"
      ],
      "metadata": {
        "id": "P_CYS8vYB_FJ"
      },
      "execution_count": null,
      "outputs": []
    },
    {
      "cell_type": "markdown",
      "source": [
        "#### Top 5  rows of the dataset"
      ],
      "metadata": {
        "id": "yQ0QGAUaED5l"
      }
    },
    {
      "cell_type": "code",
      "source": [
        "df.head()"
      ],
      "metadata": {
        "id": "_6s9BCESCA4R"
      },
      "execution_count": null,
      "outputs": []
    },
    {
      "cell_type": "markdown",
      "source": [
        "#### Last 5 rows of the dataset"
      ],
      "metadata": {
        "id": "PXib40dnEHqe"
      }
    },
    {
      "cell_type": "code",
      "source": [
        "df.tail()"
      ],
      "metadata": {
        "id": "uW1ptGApCFrM"
      },
      "execution_count": null,
      "outputs": []
    },
    {
      "cell_type": "markdown",
      "source": [
        "#### Random 5 rows of the dataset"
      ],
      "metadata": {
        "id": "Zg4gHW1mELqe"
      }
    },
    {
      "cell_type": "code",
      "source": [
        "df.sample(5)"
      ],
      "metadata": {
        "id": "IKe7kDKVCHTM"
      },
      "execution_count": null,
      "outputs": []
    },
    {
      "cell_type": "markdown",
      "source": [
        "#### Getting the the Frequency of the Sentiment of movies in the dataset"
      ],
      "metadata": {
        "id": "8o5rrF5tER62"
      }
    },
    {
      "cell_type": "code",
      "source": [
        "df[\"sentiment\"].value_counts()"
      ],
      "metadata": {
        "id": "KxEeziEKCK2k"
      },
      "execution_count": null,
      "outputs": []
    },
    {
      "cell_type": "code",
      "source": [
        "df[\"sentiment\"].value_counts().plot(kind=\"pie\")"
      ],
      "metadata": {
        "id": "iPnrqJujCeIp"
      },
      "execution_count": null,
      "outputs": []
    },
    {
      "cell_type": "code",
      "source": [
        "df[\"sentiment\"].value_counts().plot(kind=\"bar\")"
      ],
      "metadata": {
        "id": "Jzmqmt_dCi3p"
      },
      "execution_count": null,
      "outputs": []
    },
    {
      "cell_type": "code",
      "source": [
        "df=df.sample(10000)"
      ],
      "metadata": {
        "id": "ataXip-jV4l2"
      },
      "execution_count": null,
      "outputs": []
    },
    {
      "cell_type": "code",
      "source": [
        "df[\"sentiment\"].replace({'positive':1,'negative':0},inplace=True)"
      ],
      "metadata": {
        "id": "DiX0WP0qDF-Y"
      },
      "execution_count": null,
      "outputs": []
    },
    {
      "cell_type": "code",
      "source": [
        "df.head()"
      ],
      "metadata": {
        "id": "AQ9Snz0DDahY"
      },
      "execution_count": null,
      "outputs": []
    },
    {
      "cell_type": "markdown",
      "source": [
        "#### Removing all HTML tags of the reviews"
      ],
      "metadata": {
        "id": "tMoIdpWuEsr4"
      }
    },
    {
      "cell_type": "code",
      "source": [
        "import re \n",
        "def clean_html_tags(text):\n",
        "  clean=re.compile('<.*?>')\n",
        "  return re.sub(clean,'',text)"
      ],
      "metadata": {
        "id": "wHE6oSIfDduY"
      },
      "execution_count": null,
      "outputs": []
    },
    {
      "cell_type": "code",
      "source": [
        "df[\"review\"]=df[\"review\"].apply(clean_html_tags)"
      ],
      "metadata": {
        "id": "84cqD6wIFCcx"
      },
      "execution_count": null,
      "outputs": []
    },
    {
      "cell_type": "markdown",
      "source": [
        "#### Converting all reviews in the lower case"
      ],
      "metadata": {
        "id": "KImjKkZ1F0cf"
      }
    },
    {
      "cell_type": "code",
      "source": [
        "def convert_to_lower(text):\n",
        "  return text.lower()"
      ],
      "metadata": {
        "id": "qeaEZ1bfFkII"
      },
      "execution_count": null,
      "outputs": []
    },
    {
      "cell_type": "code",
      "source": [
        "df[\"review\"]=df[\"review\"].apply(convert_to_lower)"
      ],
      "metadata": {
        "id": "QQEEPSl2FrPq"
      },
      "execution_count": null,
      "outputs": []
    },
    {
      "cell_type": "code",
      "source": [
        "df.head()"
      ],
      "metadata": {
        "id": "WY7YG7N-GGZg"
      },
      "execution_count": null,
      "outputs": []
    },
    {
      "cell_type": "markdown",
      "source": [
        "#### Removing the special characters in all the reviews"
      ],
      "metadata": {
        "id": "fhixa07XGR9v"
      }
    },
    {
      "cell_type": "code",
      "source": [
        "def remove_special_chars(text):\n",
        "  x=\" \"\n",
        "  for i in text:\n",
        "    if i.isalnum():\n",
        "      x=x+i\n",
        "    else:\n",
        "      x=x+' '\n",
        "  return x\n"
      ],
      "metadata": {
        "id": "_YXvIUUhGdGU"
      },
      "execution_count": null,
      "outputs": []
    },
    {
      "cell_type": "code",
      "source": [
        "df[\"review\"]=df[\"review\"].apply(remove_special_chars)"
      ],
      "metadata": {
        "id": "4oKn-njIGIM7"
      },
      "execution_count": null,
      "outputs": []
    },
    {
      "cell_type": "code",
      "source": [
        "df.head()"
      ],
      "metadata": {
        "id": "Vp_7Uv-7HC6w"
      },
      "execution_count": null,
      "outputs": []
    },
    {
      "cell_type": "markdown",
      "source": [
        "#### Removing the stop words in the reviews"
      ],
      "metadata": {
        "id": "O5cfqMGYIs9H"
      }
    },
    {
      "cell_type": "code",
      "source": [
        "def remove_stop_words(text):\n",
        "  x=[]\n",
        "  for i in text.split():\n",
        "     if i not in stopwords.words('english'):\n",
        "       x.append(i)\n",
        "  y=x[:]\n",
        "  x.clear()\n",
        "  return y"
      ],
      "metadata": {
        "id": "aRJ9KHl2Ip4o"
      },
      "execution_count": null,
      "outputs": []
    },
    {
      "cell_type": "code",
      "source": [
        "df[\"review\"]=df[\"review\"].apply(remove_stop_words)"
      ],
      "metadata": {
        "id": "TgKvNgxCKIvg"
      },
      "execution_count": null,
      "outputs": []
    },
    {
      "cell_type": "code",
      "source": [
        "\n",
        "df.head()"
      ],
      "metadata": {
        "id": "eda2nXEeR5vH"
      },
      "execution_count": null,
      "outputs": []
    },
    {
      "cell_type": "markdown",
      "source": [
        "#### Perform the Stemming"
      ],
      "metadata": {
        "id": "Yfx4gOREZWtf"
      }
    },
    {
      "cell_type": "code",
      "source": [
        "from nltk.stem.porter import PorterStemmer\n",
        "ps=PorterStemmer()"
      ],
      "metadata": {
        "id": "vq10o7B7YiPH"
      },
      "execution_count": null,
      "outputs": []
    },
    {
      "cell_type": "code",
      "source": [
        "y=[]\n",
        "def stem_words(text):\n",
        "  for i in text:\n",
        "    y.append(ps.stem(i))\n",
        "  z=y[:]\n",
        "  y.clear()\n",
        "  return z"
      ],
      "metadata": {
        "id": "5Oi2zyYNzQKn"
      },
      "execution_count": null,
      "outputs": []
    },
    {
      "cell_type": "code",
      "source": [
        "df[\"review\"]=df[\"review\"].apply(stem_words)"
      ],
      "metadata": {
        "id": "C3RxwCsIzjjF"
      },
      "execution_count": null,
      "outputs": []
    },
    {
      "cell_type": "code",
      "source": [
        "df.head()"
      ],
      "metadata": {
        "id": "VhrfwB_PzxdF"
      },
      "execution_count": null,
      "outputs": []
    },
    {
      "cell_type": "code",
      "source": [
        "def join_back(list_op):\n",
        "  return \" \".join(list_op)"
      ],
      "metadata": {
        "id": "od1jHEfw0Ots"
      },
      "execution_count": null,
      "outputs": []
    },
    {
      "cell_type": "code",
      "source": [
        "df[\"review\"]=df[\"review\"].apply(join_back)"
      ],
      "metadata": {
        "id": "4bLobFy30YZ9"
      },
      "execution_count": null,
      "outputs": []
    },
    {
      "cell_type": "code",
      "source": [
        "df.head()"
      ],
      "metadata": {
        "id": "O6avPozG5dmq"
      },
      "execution_count": null,
      "outputs": []
    },
    {
      "cell_type": "markdown",
      "source": [
        "## Model Building"
      ],
      "metadata": {
        "id": "1u_8cRyq6lPc"
      }
    },
    {
      "cell_type": "code",
      "source": [
        "from sklearn.feature_extraction.text import CountVectorizer\n",
        "cv=CountVectorizer(max_features=1000)"
      ],
      "metadata": {
        "id": "Lj8xAe0H5e5C"
      },
      "execution_count": null,
      "outputs": []
    },
    {
      "cell_type": "code",
      "source": [
        "x=cv.fit_transform(df[\"review\"]).toarray()"
      ],
      "metadata": {
        "id": "6YXH_67T51H1"
      },
      "execution_count": null,
      "outputs": []
    },
    {
      "cell_type": "code",
      "source": [
        "y=df.iloc[:,-1].values"
      ],
      "metadata": {
        "id": "jsSsehgU6E5U"
      },
      "execution_count": null,
      "outputs": []
    },
    {
      "cell_type": "code",
      "source": [
        "from sklearn.model_selection import train_test_split\n",
        "x_train,x_test,y_train,y_test=train_test_split(x,y,test_size=0.2,random_state=0)"
      ],
      "metadata": {
        "id": "AjflFdjW6J_u"
      },
      "execution_count": null,
      "outputs": []
    },
    {
      "cell_type": "code",
      "source": [
        "from sklearn.naive_bayes import GaussianNB,MultinomialNB,BernoulliNB\n",
        "from sklearn.neighbors import KNeighborsClassifier  \n",
        "from sklearn.svm import SVC \n",
        "from sklearn.ensemble import RandomForestClassifier  \n",
        "\n",
        "\n",
        "clf1=GaussianNB()\n",
        "clf2=MultinomialNB()\n",
        "clf3=BernoulliNB()\n",
        "\n",
        "knn= KNeighborsClassifier(n_neighbors=5, metric='minkowski', p=2 )  \n",
        "svm = SVC(kernel='linear', random_state=0)  \n",
        "rf= RandomForestClassifier(n_estimators= 10, criterion=\"entropy\")  "
      ],
      "metadata": {
        "id": "zLhv3h7q6758"
      },
      "execution_count": null,
      "outputs": []
    },
    {
      "cell_type": "code",
      "source": [
        "clf1.fit(x_train,y_train)\n",
        "clf2.fit(x_train,y_train)\n",
        "clf3.fit(x_train,y_train)\n",
        "\n",
        "\n",
        "knn.fit(x_train,y_train)\n",
        "svm.fit(x_train,y_train)\n",
        "rf.fit(x_train,y_train)\n"
      ],
      "metadata": {
        "id": "LEOomqhD7fWV"
      },
      "execution_count": null,
      "outputs": []
    },
    {
      "cell_type": "code",
      "source": [
        "y_pred1=clf1.predict(x_test)\n",
        "y_pred2=clf2.predict(x_test)\n",
        "y_pred3=clf3.predict(x_test)\n",
        "\n",
        "\n",
        "y_pred5=knn.predict(x_test)\n",
        "y_pred6=svm.predict(x_test)\n",
        "y_pred7=rf.predict(x_test)\n"
      ],
      "metadata": {
        "id": "mGFpX6du7--c"
      },
      "execution_count": null,
      "outputs": []
    },
    {
      "cell_type": "code",
      "source": [
        "from sklearn.metrics import accuracy_score\n"
      ],
      "metadata": {
        "id": "WJj8qhqM8Vpl"
      },
      "execution_count": null,
      "outputs": []
    },
    {
      "cell_type": "code",
      "source": [
        "print(f\"Accuracy using the Gaussian Naive Bayes: {accuracy_score(y_test,y_pred1)*100}\")"
      ],
      "metadata": {
        "id": "J81wwjGo8gBt"
      },
      "execution_count": null,
      "outputs": []
    },
    {
      "cell_type": "code",
      "source": [
        "print(f\"Accuracy using the Multinomial Naive Bayes: {accuracy_score(y_test,y_pred2)*100}\")"
      ],
      "metadata": {
        "id": "3efKSCH98l0U"
      },
      "execution_count": null,
      "outputs": []
    },
    {
      "cell_type": "code",
      "source": [
        "print(f\"Accuracy using the BernoulliNB Naive Bayes: {accuracy_score(y_test,y_pred3)*100}\")"
      ],
      "metadata": {
        "id": "LW5V7yGt8qI0"
      },
      "execution_count": null,
      "outputs": []
    },
    {
      "cell_type": "code",
      "source": [
        "print(f\"Accuracy using the KNN: {accuracy_score(y_test,y_pred5)*100}\")"
      ],
      "metadata": {
        "id": "yzzQ6eotOfGg"
      },
      "execution_count": null,
      "outputs": []
    },
    {
      "cell_type": "code",
      "source": [
        "print(f\"Accuracy using the SVM: {accuracy_score(y_test,y_pred6)*100}\")"
      ],
      "metadata": {
        "id": "AlF0_2DOOfPh"
      },
      "execution_count": null,
      "outputs": []
    },
    {
      "cell_type": "code",
      "source": [
        "print(f\"Accuracy using the Random Forest: {accuracy_score(y_test,y_pred7)*100}\")"
      ],
      "metadata": {
        "id": "DXZ7rLZYOfXY"
      },
      "execution_count": null,
      "outputs": []
    },
    {
      "cell_type": "markdown",
      "source": [
        "#### Here the Accuracy of Bernoulli Naive Bayes is High which is 83.85%, so we use this algorithm to built our model and perform the prediction. "
      ],
      "metadata": {
        "id": "UxHaui_gQ5aa"
      }
    },
    {
      "cell_type": "code",
      "source": [
        "review=input(\"Enter your review about movie: \")\n"
      ],
      "metadata": {
        "id": "XK5Nf4oW8ryc"
      },
      "execution_count": null,
      "outputs": []
    },
    {
      "cell_type": "markdown",
      "source": [
        "#### Here the Accuracy score"
      ],
      "metadata": {
        "id": "T3_x7udPQCoz"
      }
    },
    {
      "cell_type": "code",
      "source": [
        "y_pred3=clf3.predict(cv.transform([review]))"
      ],
      "metadata": {
        "id": "x0skVMTXAO_k"
      },
      "execution_count": null,
      "outputs": []
    },
    {
      "cell_type": "code",
      "source": [
        "y_pred3"
      ],
      "metadata": {
        "id": "lmzWBwc3LRWo"
      },
      "execution_count": null,
      "outputs": []
    },
    {
      "cell_type": "code",
      "source": [
        "if y_pred3==1:\n",
        "  print(\"Review about the movie is Positive\")\n",
        "else:\n",
        "  print(\"Review about the movie is Negative\")"
      ],
      "metadata": {
        "id": "gDxqjx-mAR2D"
      },
      "execution_count": null,
      "outputs": []
    }
  ]
}